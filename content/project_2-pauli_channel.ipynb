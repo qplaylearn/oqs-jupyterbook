{
 "cells": [
  {
   "cell_type": "markdown",
   "metadata": {},
   "source": [
    "# Project 2: Pauli channel"
   ]
  },
  {
   "cell_type": "markdown",
   "metadata": {},
   "source": [
    "In this project we will implement the general **Pauli channel** in qiskit. \n",
    "\n",
    "As an application, we will evaluate a quantity that is relevant in quantum thermodynamics, known as extractable work, trying to reproduce the result of the paper [*G. García-Pérez et al., npj Quantum Inf 6, 1 (2020)*](https://doi.org/10.1038/s41534-019-0235-y)."
   ]
  },
  {
   "cell_type": "markdown",
   "metadata": {},
   "source": [
    "The most general single-qubit open quantum system model is the time-dependent Pauli channel. The master equation in this case takes the form\n",
    "\\begin{equation}\n",
    "\\frac{d\\rho_{S} }{dt}(t)=\\frac{1}{2}\\sum_i\\gamma_i(t)\\left[\\sigma_i\\rho_{S}(t)\\sigma_i-\\rho_{S}(t)\\right].\n",
    "\\end{equation}"
   ]
  },
  {
   "cell_type": "markdown",
   "metadata": {},
   "source": [
    "Generally, the dynamics described by the master equation above is not phase-covariant [[1](#1)], except for the case in which $\\gamma_x(t)=\\gamma_y(t)$. Moreover, since the decay rates may take negative values, conditions for complete positivity must be imposed, and they are given in terms of a set of inequalities involving all the three decay rates, as one can see, e.g., from Ref. [[2](#2)].\n",
    "<!--\n",
    "**In Sec.~\\ref{sec:discussion} we present the simulation of a specific form of time-dependent Pauli channel proposed in Ref.~\\cite{Hall2014} and used as an example of eternal non-Markovianity, i.e.~an open quantum system dynamics for which the dynamical map is non-CP-divisible for all times $t$. More precisely, we use this experimental simulation to demonstrate a phenomenon predicted in Ref.~\\cite{BognaWork}, namely the presence of oscillations in the extractable work. This shows an application of open quantum system simulation on the IBM Q Experience processors to fields other than quantum information theory, specifically quantum thermodynamics for the example here considered.** What? Is example Markovian or non-Markovian???? -->"
   ]
  },
  {
   "cell_type": "markdown",
   "metadata": {},
   "source": [
    "At a specific time instant $t$, the Pauli channel can be written as\n",
    "\\begin{equation} \n",
    " \\mathcal{E} (\\rho) = \\sum_{i=0}^3 p_i \\sigma_i \\rho \\sigma_i,\n",
    "\\end{equation}\n",
    " \n",
    "with $0 \\leq p_i \\leq 1$ and $\\sum_i p_i = 1$. The depolarizing channel is a special case of the Pauli channel where $p_1 = p_2 = p_3 = p/4$. "
   ]
  },
  {
   "cell_type": "markdown",
   "metadata": {},
   "source": [
    "It is possible to implement the general Pauli channel with just two ancillary qubits, by preparing them in the suitable entangled state. The first qubit acts as the control for a controlled-$X$ (CNOT) gate, and the second one for a controlled-$Y$. Notice that applying both an X and a Y gates is effectively equivalent to applying a Z gate."
   ]
  },
  {
   "cell_type": "markdown",
   "metadata": {},
   "source": [
    "The state $|\\psi \\rangle$ of the ancillae needed for the Pauli channel can be implemented by the following circuit:"
   ]
  },
  {
   "cell_type": "code",
   "execution_count": 7,
   "metadata": {},
   "outputs": [
    {
     "data": {
      "image/png": "[encoded data removed]",
      "text/plain": [
       "<Figure size 387.597x204.68 with 1 Axes>"
      ]
     },
     "execution_count": 7,
     "metadata": {},
     "output_type": "execute_result"
    }
   ],
   "source": [
    "from qiskit import QuantumRegister, QuantumCircuit\n",
    "from qiskit.circuit import Parameter\n",
    "\n",
    "#############################\n",
    "#       Pauli channel       #\n",
    "#############################\n",
    "\n",
    "# Quantum register\n",
    "q = QuantumRegister(3, name=\"q\")\n",
    "\n",
    "# Quantum circuit\n",
    "pauli = QuantumCircuit(q)\n",
    "\n",
    "# Pauli channel acting on q_2\n",
    "## Qubit identification\n",
    "system = 0\n",
    "a_0 = 1\n",
    "a_1 = 2\n",
    "\n",
    "# ## Define rotation angles\n",
    "theta_1 = Parameter('θ1')\n",
    "theta_2 = Parameter('θ2')\n",
    "theta_3 = Parameter('θ3')\n",
    "\n",
    "## Construct circuit\n",
    "pauli.ry(2*theta_1, q[a_0])\n",
    "pauli.cx(q[a_0], q[a_1])\n",
    "pauli.ry(2*theta_3, q[a_0])\n",
    "pauli.ry(2*theta_2, q[a_1])\n",
    "pauli.cx(q[a_0], q[system])\n",
    "pauli.cy(q[a_1], q[system])\n",
    "\n",
    "# Draw circuit\n",
    "pauli.draw(output='mpl')"
   ]
  },
  {
   "cell_type": "markdown",
   "metadata": {},
   "source": [
    "## Task 1 (1p)\n",
    "\n",
    "The depolarizing channel is a special case of the Pauli channel where $p_1 = p_2 = p_3 = p/4$. It can thus be implemented using the circuit above. But why can't a general Pauli channel be implemented with the circuit used in Project 1, if we allow each of the three ancillary qubits to be rotated by a different angle $\\theta$?\n",
    "\n",
    "Find a counterexample of Pauli channel that can't be implemented with the circuit used in Project 1.\n",
    "\n"
   ]
  },
  {
   "cell_type": "markdown",
   "metadata": {},
   "source": [
    "## Task 2 (2p)\n",
    "The crucial part of the circuit implementation of the Pauli channel is the inversion of the system of equations \n",
    "\n",
    "\\begin{equation}\n",
    "    \\begin{cases}\n",
    "        p_0  = |\\langle 00|\\psi \\rangle|^2 = (c_1 c_2 c_3 + s_1 s_2 s_3)^2 & \\\\\n",
    "        p_1  = |\\langle 01|\\psi \\rangle|^2 = (c_1 c_2 s_3 - s_1 s_2 c_3)^2 & \\\\\n",
    "        p_2  = |\\langle 10|\\psi \\rangle|^2 = (c_1 s_2 c_3 - s_1 c_2 s_3)^2 & \\\\\n",
    "        p_3  = |\\langle 11|\\psi \\rangle|^2 = (s_1 c_2 c_3 + c_1 s_2 s_3)^2 &\n",
    "    \\end{cases}\n",
    "\\end{equation}\n",
    "\n",
    "where $c_i \\equiv \\cos \\theta_i$ and $s_i \\equiv \\sin \\theta_i$, that gives us the three angles $\\theta_1$, $\\theta_2$ and $\\theta_3$.\n",
    "\n",
    "The system allows for multiple solutions, but we just need to find one (we can restrict to angles between 0 and $2\\pi$).\n",
    "\n",
    "1. *Find such a solution, either analytically (e.g. by using Mathematica) or numerically (e.g. using `scipy.optimize`)*\n",
    "2. *Implement a function that returns the circuit implementing the Pauli Channel for a list of values `[p_1, p_2, p_3]`.*\n",
    "\n",
    "NOTE: Many solvers are not able to find a solution consistently or at all for 2.1. It can be helpful to provide an initial guess (e.g. random) and allow only solutions with a very low tolerance ($<10^{-10}$) to the solver. It can also help to provide the bounds $(0, 2\\pi)$ and change between different minimization algorithms."
   ]
  },
  {
   "cell_type": "code",
   "execution_count": null,
   "metadata": {},
   "outputs": [],
   "source": []
  },
  {
   "cell_type": "code",
   "execution_count": null,
   "metadata": {},
   "outputs": [],
   "source": [
    "def pauli_channel(q, p, system, pauli_ancillae):\n",
    "    \"\"\"\n",
    "        Apply the Pauli channel to system with probabilities p\n",
    "        \n",
    "    Args:\n",
    "    q (QuantumRegister): the quantum register for the circuit\n",
    "    system (int): index of the system qubit\n",
    "    pauli_ancillae (list): list of indices of the ancillary qubits\n",
    "    p (list): list of probabilities [p_1, p_2, p_3] for the Pauli channel\n",
    "    \n",
    "    Returns:\n",
    "    A QuantumCircuit implementing the Pauli channel\n",
    "    \"\"\"\n",
    "    \n",
    "    # Write code"
   ]
  },
  {
   "cell_type": "markdown",
   "metadata": {},
   "source": [
    "## Task 3 (2p)\n",
    "\n",
    "We are going to evaluate the amount of work that can be extracted by erasure in our system qubit A prepared in an initially entangled state with a quantum memory Q. This quantity is relevant in quantum thermodynamics. It was introduced in *L. del Rio et al., Nature 474, 61 (2011)* and also studied in the context of non-Markovian dynamics, [*B. Bylicka et al., Sci. Rep. 6, 27989 (2016)*](https://www.nature.com/articles/srep27989) (an experimental implementation on IBM Q devices is here: [*G. García-Pérez et al., npj Quantum Inf 6, 1 (2020)*](https://doi.org/10.1038/s41534-019-0235-y)).\n",
    "\n",
    "We are going to implement a function that evaluates Eq. (4) of [*B. Bylicka et al., Sci. Rep. 6, 27989 (2016)*](https://www.nature.com/articles/srep27989). You can use the rescaled extractable work below.\n",
    "\n",
    "$$\\frac{W_{ex}(t)}{kT\\ln{2}} = [n - S(A | Q)]$$\n",
    "\n",
    "*For that, we first need a `conditional_entropy` function that takes a two-qubit state vector or density operator* and returns the conditional entropy $S(A|B) = S(AB) - S(B)$ where $S$ denotes the [von-Neumann entropy](https://en.wikipedia.org/wiki/Von_Neumann_entropy)."
   ]
  },
  {
   "cell_type": "code",
   "execution_count": null,
   "metadata": {},
   "outputs": [],
   "source": [
    "# Suggested imports...\n",
    "from qiskit.quantum_info import entropy, partial_trace\n",
    "\n",
    "def conditional_entropy(state, qubit_a, qubit_b):\n",
    "    \"\"\"Conditional entropy S(A|B) = S(AB) - S(B)\n",
    "    \n",
    "    Args:\n",
    "        state: a vector or density operator\n",
    "        qubit_a: 0-based index of the qubit A\n",
    "        qubit_b: 0-based index of the qubit B\n",
    "        \n",
    "    Returns:\n",
    "        int: the conditional entropy\n",
    "    \"\"\"\n",
    "    # Write code here"
   ]
  },
  {
   "cell_type": "markdown",
   "metadata": {},
   "source": [
    "And now you can implement the `extractable_work` function, that also takes a two-qubit system and returns the amount of extractable work."
   ]
  },
  {
   "cell_type": "code",
   "execution_count": null,
   "metadata": {},
   "outputs": [],
   "source": [
    "def extractable_work(state, system_qubit, memory_qubit, n=1):\n",
    "    \"\"\"Extractable work from a two-qubit state\n",
    "    =\n",
    "    Cfr. Eq. (4) Bylicka et al., Sci. Rep. 6, 27989 (2016)\n",
    "    \n",
    "    Args:\n",
    "        state: a vector or density operator\n",
    "        system_qubit: index of the system qubit\n",
    "        memory_qubit: index of the memory qubit\n",
    "        n: number of system qubits\n",
    "    \"\"\"\n",
    "    # Write code here"
   ]
  },
  {
   "cell_type": "markdown",
   "metadata": {},
   "source": [
    "## Task 4 (5p)\n",
    "\n",
    "We are now going to implement two different types of dynamics, i.e. functions that return the values of p as function of time. One is a non-CP-divisible map (see [Chapter 8 of Open Quantum Systems with Qiskit](https://matteoacrossi.github.io/open_quantum_systems_course/non-markovian_quantum_dynamics.html))\n",
    "\n",
    "    p_ncp = [1/4 * (1 - np.exp(-2 * t * eta)), \n",
    "             1/4 * (1 - np.exp(-2 * t * eta)),\n",
    "             1/4 * (1 + np.exp(-2 * t * eta) - 2 * np.exp(-t * eta) * np.cos(t * omega))]\n",
    "         \n",
    "and the other is eternally non-Markovian (cf. [*G. García-Pérez et al., npj Quantum Inf 6, 1 (2020)*](https://doi.org/10.1038/s41534-019-0235-y))\n",
    "\n",
    "    p_enm = [1/4 * (1 - np.exp(-2 * t * eta)), \n",
    "             1/4 * (1 - np.exp(-2 * t * eta)),\n",
    "             1/4 * (1 + np.exp(-2 * t * eta) - 2 * np.exp(-t * eta) * np.cosh(t * omega))]\n",
    "\n",
    "1. Write the functions `p_ncp(t)` and `p_enm(t)` that return the circuit simulating the Pauli channel at time $t$ for the two dynamics above.\n",
    "2. Write a circuit in which you prepare two qubits (the system and memory) in the $|\\Psi^-\\rangle = \\frac{1}{\\sqrt{2}}{(|01\\rangle - |10\\rangle)}$ state.\n",
    "3. Let's use the following time steps and parameters for the dynamics.\n",
    "\n",
    "        t_values = np.linspace(0, 3, 11)\n",
    "\n",
    "        params_ncp = {'eta': 0.1, 'omega': 2.0}\n",
    "        params_enm = {'eta': 1.0, 'omega': 0.5}\n",
    "\n",
    "    write the circuits implementing the dynamics for each of the `t_values`.\n",
    "   \n",
    "4. For each circuit perform state tomography on a simulator, compute and plot the extractable work as a function of time for both dynamics. Execute the circuits using [`qiskit_experiments.framework.BatchExperiment`](https://qiskit.org/ecosystem/experiments/stubs/qiskit_experiments.framework.BatchExperiment.html#qiskit_experiments.framework.BatchExperiment) by providing a list of `StateTomography` instances. This way you can execute all the necessary circuits in one call, which can speed up the experiments when dealing with e.g. real devices.\n",
    "5. Plot also the exact values for the extractable work for both dynamics.\n"
   ]
  },
  {
   "cell_type": "markdown",
   "metadata": {},
   "source": [
    "## Optional Tasks\n",
    "\n",
    "1. Use the circuit of the general Pauli channel to implement the depolarizing channel on the real machine, and compare the experimental outcome with the ones from the previous project. Which one has higher fidelities?\n",
    "\n",
    "2. Run the code above on a real device and compare it with the simulation. See the solution of project 1 for help!"
   ]
  },
  {
   "cell_type": "code",
   "execution_count": null,
   "metadata": {},
   "outputs": [],
   "source": []
  }
 ],
 "metadata": {
  "kernelspec": {
   "display_name": "oqs-test",
   "language": "python",
   "name": "python3"
  },
  "language_info": {
   "codemirror_mode": {
    "name": "ipython",
    "version": 3
   },
   "file_extension": ".py",
   "mimetype": "text/x-python",
   "name": "python",
   "nbconvert_exporter": "python",
   "pygments_lexer": "ipython3",
   "version": "3.11.9"
  }
 },
 "nbformat": 4,
 "nbformat_minor": 2
}
