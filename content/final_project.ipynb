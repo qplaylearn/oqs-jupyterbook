{
 "cells": [
  {
   "cell_type": "markdown",
   "metadata": {},
   "source": [
    "## Final project: Pauli twirling\n",
    "\n",
    "Pauli twirling, also known as randomized compiling, is a common step applied before many noise mitigation techniques used in the field of quantum computing. With Pauli twirling it is possible to tailor general noise channels into a stochastic Pauli channels, which have a relatively simple model, while at the same time keeping the logical circuit unchanged.\n",
    "\n",
    "In this final project, we will explore the effect of Pauli twirling on the different noise channels that we have covered in the course, implement a custom experiment class to be used in conjunction with other qiskit-experiments classes and simulate the effect of Pauli twirling on the noise channels."
   ]
  },
  {
   "cell_type": "markdown",
   "metadata": {},
   "source": [
    "Pauli twirling was first introduced as randomized compiling in [J. Wallman and J. Emerson, Phys. Rev. A 94, 052325 (2015)](https://journals.aps.org/pra/abstract/10.1103/PhysRevA.94.052325). It works by producing classical mixtures of the noise channel with gates applied on either side of the noise channel. The gates are often chosen to be the Pauli gates $\\{I, X, Y, Z\\}$. The twirling action $\\mathcal{T}_i$ on a quantum channel $\\Lambda(\\rho)$ is described as\n",
    "\\begin{align}\n",
    "\\mathcal{T}_i\\Lambda &=\\mathcal{P}_i\\Lambda\\mathcal{P}_i^\\dagger\n",
    "\\end{align}\n",
    "where the super-operator $\\mathcal{P}_i$ acts on an operator as\n",
    "\\begin{align}\n",
    "\\mathcal{P}_i\\Lambda&= \\sigma_i^\\dagger\\Lambda\\sigma_i.\n",
    "\\end{align}"
   ]
  },
  {
   "cell_type": "markdown",
   "metadata": {},
   "source": [
    "The resulting channel is then produced by averaging over all the twirled channels over the chosen gates, in our case the Pauli gates\n",
    "\\begin{align}\n",
    "\\widetilde{\\Lambda} &= \\frac{1}{4}\\sum_{i=0}^3{\\mathcal{T}_i\\Lambda} \\\\\n",
    "&= \\frac{\\Lambda + \\mathcal{P}_{x}\\Lambda \\mathcal{P}_{x}^\\dagger + \\mathcal{P}_{y}\\Lambda \\mathcal{P}_{y}^\\dagger + \\mathcal{P}_{z} \\Lambda \\mathcal{P}_{z}^\\dagger}{4}.\n",
    "\\end{align}\n",
    "\n",
    "\\begin{align}\n",
    "\\widetilde{\\Lambda}(\\rho) &= \\frac{1}{4}\\sum_{i=0}^3{\\mathcal{T}_i\\Lambda(\\rho)} \\\\\n",
    "&= \\frac{1}{4}\\sum_{i=0}^3{\\mathcal{P}_i(\\Lambda(\\mathcal{P}_i^\\dagger(\\rho)))} \\\\\n",
    "&= \\frac{\\Lambda \\rho + \\mathcal{P}_{x}\\Lambda \\mathcal{P}_{x}^\\dagger \\rho + \\mathcal{P}_{y}\\Lambda \\mathcal{P}_{y}^\\dagger \\rho + \\mathcal{P}_{z} \\Lambda \\mathcal{P}_{z}^\\dagger \\rho}{4}.\n",
    "\\end{align}"
   ]
  },
  {
   "cell_type": "markdown",
   "metadata": {},
   "source": [
    "We start with a density matrix $\\rho$ and apply a channel $\\lambda$ on it:\n",
    "$$\\Lambda \\rho = \\Lambda(\\rho)$$\n",
    "Next, we twirl only the channel:\n",
    "$$\\widetilde{\\Lambda} = \\mathcal{T}_i\\Lambda = \\mathcal{P}_i\\Lambda\\mathcal{P}_i^\\dagger$$\n",
    "When we apply this new channel on $\\rho$ again, we obtain\n",
    "$$\\widetilde{\\Lambda}(\\rho) = \\mathcal{P}_i\\Lambda\\mathcal{P}_i^\\dagger\\rho = \\mathcal{P}_i(\\Lambda(\\mathcal{P}_i^\\dagger(\\rho))).$$\n",
    "The right Pauli super-operator acts on the input of the twirled channel and not the channel itself."
   ]
  },
  {
   "cell_type": "code",
   "execution_count": 1,
   "metadata": {},
   "outputs": [],
   "source": [
    "from qiskit import QuantumRegister, ClassicalRegister, QuantumCircuit\n",
    "import numpy as np"
   ]
  },
  {
   "cell_type": "markdown",
   "metadata": {},
   "source": [
    "### Task 1 (7p)\n",
    "\n",
    "Algebraically compute the resulting channel after applying twirling on:\n",
    "\n",
    "1) Bit-flip channel\n",
    "$$ \\Lambda_d (\\rho) = (1-p) I \\rho I + p (X \\rho X)$$\n",
    "2) Coherent rotation\n",
    "$$ \\Lambda_r (\\rho) = \\cos^2{\\left(\\frac{\\theta}{2}\\right)} I \\rho I  + \\sin^2{\\left(\\frac{\\theta}{2}\\right)} X \\rho X + \\frac{i}{2} (\\sin{(\\theta)} I \\rho X - \\sin{(\\theta)} X \\rho I)$$\n",
    "3) Amplitude damping channel\n",
    "$$ \\Lambda_a (\\rho) = A_0 \\rho A_0^\\dagger + A_1 \\rho A_1^\\dagger$$\n",
    "where $A_0 = \\frac{(1+\\sqrt{1-p})}{2} I  + \\frac{(1-\\sqrt{1-p})}{2} Z$ and $A_1 = \\frac{\\sqrt{p}}{2} (X + iY)$.\n",
    "\n",
    "Write the resulting channels as Pauli channels."
   ]
  },
  {
   "cell_type": "markdown",
   "metadata": {},
   "source": []
  },
  {
   "cell_type": "markdown",
   "metadata": {},
   "source": [
    "### Task 2 (8p)\n",
    "\n",
    "Write custom experiment and analysis classes using e.g. the qiskit-experiments framework for extracting density matrices after twirling noise channels using state tomography.\n",
    "The experiment class should accept at least one circuit with a noise channel as input and the analysis class should return a density matrix as output.\n",
    "\n",
    "There are many possible ways of implementing this, but to give you an idea where to start, we provide you with a template below. Your experiment class could inherit from `BaseExperiment` or `TomographyExperiment` and implement the `__init__` and `circuit` methods to produce the circuits necessary for Pauli twirling. Your analysis class could inherit from `BaseAnalysis` and implement the `_run_analysis` method to average the results over different twirls obtained from the experiment. You can use the instructions on the [qiskit-experiments Documentation](https://qiskit.org/ecosystem/experiments/tutorials/custom_experiment.html) for help. Qiskit-experiments is fully open source, so looking at the source code can help as well."
   ]
  },
  {
   "cell_type": "code",
   "execution_count": 46,
   "metadata": {},
   "outputs": [],
   "source": [
    "from qiskit import QuantumCircuit\n",
    "from typing import Tuple, List, Optional, Sequence\n",
    "import matplotlib\n",
    "from qiskit.providers.backend import Backend\n",
    "from qiskit_experiments.library.tomography import TomographyExperiment\n",
    "from qiskit_experiments.framework import (\n",
    "    BaseAnalysis,\n",
    "    Options,\n",
    "    ExperimentData,\n",
    "    AnalysisResultData\n",
    ")\n",
    "\n",
    "class TwirledStateTomographyAnalysis(BaseAnalysis):\n",
    "    \"\"\"Analysis class for state tomography with twirling.\"\"\"\n",
    "\n",
    "    @classmethod\n",
    "    def _default_options(cls) -> Options:\n",
    "        \"\"\"Set default analysis options.\"\"\"\n",
    "\n",
    "        options = super()._default_options()\n",
    "        options.plot = False\n",
    "        options.ax = None\n",
    "        return options\n",
    "\n",
    "    def _run_analysis(\n",
    "        self,\n",
    "        experiment_data: ExperimentData\n",
    "    ) -> Tuple[List[AnalysisResultData], List[\"matplotlib.figure.Figure\"]]:\n",
    "        \"\"\"Run the analysis.\"\"\"\n",
    "\n",
    "        data_objects = experiment_data.data()\n",
    "\n",
    "        # Combine twirled results and perform state tomography\n",
    "        result = AnalysisResultData()\n",
    "\n",
    "        return result, []\n",
    "\n",
    "class TwirledStateTomography(TomographyExperiment):\n",
    "    \"\"\"State tomography with twirling.\"\"\"\n",
    "\n",
    "    def __init__(self,\n",
    "                 circuit: QuantumCircuit,\n",
    "                #  add your own arguments here...\n",
    "                 physical_qubits: Sequence[int] = None,\n",
    "                 measurement_indices: Sequence[int] = None,\n",
    "                 backend: Optional[Backend] = None):\n",
    "        \"\"\"Initialize the experiment.\"\"\"\n",
    "        if physical_qubits is None:\n",
    "            physical_qubits = tuple(range(circuit.num_qubits))\n",
    "        super().__init__(circuit=circuit,\n",
    "                        backend=backend,\n",
    "                        physical_qubits=physical_qubits,\n",
    "                        measurement_indices=measurement_indices,\n",
    "                        analysis=TwirledStateTomographyAnalysis(),\n",
    "                        )\n",
    "\n",
    "    def circuits(self) -> List[QuantumCircuit]:\n",
    "        \"\"\"Generate the list of circuits to be run.\"\"\"\n",
    "        circuits = []\n",
    "        # Generate circuits and populate metadata here\n",
    "\n",
    "        return circuits\n",
    "\n",
    "    @classmethod\n",
    "    def _default_experiment_options(cls) -> Options:\n",
    "        \"\"\"Set default experiment options here.\"\"\"\n",
    "        options = super()._default_experiment_options()\n",
    "        return options"
   ]
  },
  {
   "cell_type": "markdown",
   "metadata": {},
   "source": [
    "### Task 3 (8p)\n",
    "Initialize a qubit in a state with non-zero populations and coherences. Apply each of the noise channels below to that qubit and perform state tomography with and without twirling applied on the channel. For each noise channel, plot on the same figure $\\rho_{00}$, $\\rho_{11}$, $Re(\\rho_{01})$, $Im(\\rho_{01})$ for the twirled and non-twirled cases for different values of $p$ or $\\theta$. \n",
    "\n",
    "Noise channels:\n",
    "- Bit-flip\n",
    "    - Pauli channel with $(1-p, p, 0, 0)$.\n",
    "- Coherent rotation\n",
    "    - Apply the RX gate with a small angle.\n",
    "- Amplitude damping channel\n",
    "\n",
    "\n",
    "You may use the noise models implemented in `qiskit_aer.noise`. You are also allowed to use the implementations of the noise channels from previous projects, however beware that you may encounter numerical instabilities."
   ]
  },
  {
   "cell_type": "code",
   "execution_count": null,
   "metadata": {},
   "outputs": [],
   "source": [
    "p_values = np.linspace(0, 1, 10)\n",
    "theta_values = np.linspace(-np.pi, np.pi, 10)\n",
    "\n"
   ]
  },
  {
   "cell_type": "markdown",
   "metadata": {},
   "source": [
    "### Task 4 (7p)\n",
    "Finally, let us invert or mitigate the twirled noise channels to extract the noiseless density matrix. After twirling, the noise channel should be in the form of a Pauli channel, which is relatively easy to invert if the noise coefficients are known. The inverted channel is not guaranteed to be a physical channel, as the coefficients may be negative. The procedure to invert common noise channels is described in [S. Mangini, et al. EPJ Quantum Technol. 9, 29 (2022)](https://doi.org/10.1140/epjqt/s40507-022-00151-0).\n",
    "\n",
    "The inverse of a general Pauli channel with coefficients $(p_{0}, p_{x}, p_{y}, p_{z})$ is found to be\n",
    "$$\\begin{aligned} & \\Lambda^{-1}_{\\boldsymbol{p}}(\\Lambda) = \\beta _{0} \\Lambda + \\beta _{1} \\sigma _{x} {\\Lambda} \\sigma _{x} + \\beta _{2} \\sigma _{y} {\\Lambda} \\sigma _{y} + \\beta _{3} \\sigma _{z} {\\Lambda} \\sigma _{z}\\quad \\text{with} \\\\ & \\beta _{0} =\\frac{1}{4} \\biggl(1+\\frac{1}{1-2(p_{x}+p_{y})}+ \\frac{1}{1-2(p_{x}+p_{z})}+\\frac{1}{1-2(p_{y}+p_{z})} \\biggr), \\\\ & \\beta _{1} = \\frac{1}{4} \\biggl(1-\\frac{1}{1-2(p_{x}+p_{y})}- \\frac{1}{1-2(p_{x}+p_{z})}+\\frac{1}{1-2(p_{y}+p_{z})} \\biggr), \\\\ & \\beta _{2} = \\frac{1}{4} \\biggl(1-\\frac{1}{1-2(p_{x}+p_{y})}+ \\frac{1}{1-2(p_{x}+p_{z})}-\\frac{1}{1-2(p_{y}+p_{z})} \\biggr), \\\\ & \\beta _{3} = \\frac{1}{4} \\biggl(1+\\frac{1}{1-2(p_{x}+p_{y})}- \\frac{1}{1-2(p_{x}+p_{z})}-\\frac{1}{1-2(p_{y}+p_{z})} \\biggr) . \\end{aligned}$$\n",
    "\n",
    "Using the coefficients of the twirled noise channels from Task 1, invert each of the density matrices you found in Task 3 (for each $p$ and $\\theta$) and compare $\\rho_{00}$, $\\rho_{11}$, $Re(\\rho_{01})$, $Im(\\rho_{01})$ to the non-inverted ones in e.g. a plot.\n",
    "\n",
    "Hint: The expressions simplify a lot if you substitute the coefficients from Task 1."
   ]
  },
  {
   "cell_type": "code",
   "execution_count": null,
   "metadata": {},
   "outputs": [],
   "source": []
  }
 ],
 "metadata": {
  "kernelspec": {
   "display_name": "oqs-test",
   "language": "python",
   "name": "python3"
  },
  "language_info": {
   "codemirror_mode": {
    "name": "ipython",
    "version": 3
   },
   "file_extension": ".py",
   "mimetype": "text/x-python",
   "name": "python",
   "nbconvert_exporter": "python",
   "pygments_lexer": "ipython3",
   "version": "3.11.9"
  }
 },
 "nbformat": 4,
 "nbformat_minor": 2
}
